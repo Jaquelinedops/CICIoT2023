{
  "cells": [
    {
      "cell_type": "markdown",
      "metadata": {
        "id": "view-in-github",
        "colab_type": "text"
      },
      "source": [
        "<a href=\"https://colab.research.google.com/github/Jaquelinedops/CICIoT2023/blob/main/IoT_Traffic_Application_Attack_prediction.ipynb\" target=\"_parent\"><img src=\"https://colab.research.google.com/assets/colab-badge.svg\" alt=\"Open In Colab\"/></a>"
      ]
    },
    {
      "cell_type": "code",
      "execution_count": 1,
      "metadata": {
        "colab": {
          "base_uri": "https://localhost:8080/"
        },
        "id": "T87yF5aAAUgQ",
        "outputId": "ff898c15-97bb-41f6-f8e9-b8f0e8b494de"
      },
      "outputs": [
        {
          "output_type": "stream",
          "name": "stdout",
          "text": [
            "Mounted at /content/drive\n"
          ]
        }
      ],
      "source": [
        "from google.colab import drive\n",
        "drive.mount('/content/drive')\n"
      ]
    },
    {
      "cell_type": "markdown",
      "metadata": {
        "id": "TFPuCOe8AlCK"
      },
      "source": [
        "# IoT application attack predict model\n",
        "\n",
        "Autora: Jaqueline Duarte"
      ]
    },
    {
      "cell_type": "markdown",
      "source": [
        "The predict model at https://github.com/Jaquelinedops/CICIoT2023/blob/main/IoTTraffic_DecisionTreeClassifier.ipynb underperformed on the web application attacks"
      ],
      "metadata": {
        "id": "SjWznIJrKg2L"
      }
    },
    {
      "cell_type": "markdown",
      "source": [
        "The aim of this study is to find the model with the best perfomance of recall; THis metric is the most appropriate because for an attack detection system, the application is desirable to find all relevant items, even if this means including some irrelevant ones. Since the impact of a false negative can have a much higher cost, becoming an undetected incident, than the cost of a false positive."
      ],
      "metadata": {
        "id": "DE8pot5pg2iQ"
      }
    },
    {
      "cell_type": "code",
      "execution_count": 2,
      "metadata": {
        "colab": {
          "base_uri": "https://localhost:8080/"
        },
        "id": "WwzqQKpYnbxp",
        "outputId": "5b6a90ae-74e6-4991-b0b1-ca4385675c29"
      },
      "outputs": [
        {
          "output_type": "stream",
          "name": "stdout",
          "text": [
            "Collecting parquet\n",
            "  Downloading parquet-1.3.1-py3-none-any.whl (24 kB)\n",
            "Collecting thriftpy2 (from parquet)\n",
            "  Downloading thriftpy2-0.5.0.tar.gz (779 kB)\n",
            "\u001b[2K     \u001b[90m━━━━━━━━━━━━━━━━━━━━━━━━━━━━━━━━━━━━━━━━\u001b[0m \u001b[32m779.0/779.0 kB\u001b[0m \u001b[31m10.5 MB/s\u001b[0m eta \u001b[36m0:00:00\u001b[0m\n",
            "\u001b[?25h  Installing build dependencies ... \u001b[?25l\u001b[?25hdone\n",
            "  Getting requirements to build wheel ... \u001b[?25l\u001b[?25hdone\n",
            "  Preparing metadata (pyproject.toml) ... \u001b[?25l\u001b[?25hdone\n",
            "Collecting ply<4.0,>=3.4 (from thriftpy2->parquet)\n",
            "  Downloading ply-3.11-py2.py3-none-any.whl (49 kB)\n",
            "\u001b[2K     \u001b[90m━━━━━━━━━━━━━━━━━━━━━━━━━━━━━━━━━━━━━━━━\u001b[0m \u001b[32m49.6/49.6 kB\u001b[0m \u001b[31m7.1 MB/s\u001b[0m eta \u001b[36m0:00:00\u001b[0m\n",
            "\u001b[?25hRequirement already satisfied: six~=1.15 in /usr/local/lib/python3.10/dist-packages (from thriftpy2->parquet) (1.16.0)\n",
            "Building wheels for collected packages: thriftpy2\n",
            "  Building wheel for thriftpy2 (pyproject.toml) ... \u001b[?25l\u001b[?25hdone\n",
            "  Created wheel for thriftpy2: filename=thriftpy2-0.5.0-cp310-cp310-linux_x86_64.whl size=1747862 sha256=d98dd8ba2a62582f9746780744d3ea00998af7e461125a0c8b00a2430f3f4c61\n",
            "  Stored in directory: /root/.cache/pip/wheels/05/ac/1c/efe61b4807a4964988e4cc121f4628f1af455a347914925099\n",
            "Successfully built thriftpy2\n",
            "Installing collected packages: ply, thriftpy2, parquet\n",
            "Successfully installed parquet-1.3.1 ply-3.11 thriftpy2-0.5.0\n"
          ]
        }
      ],
      "source": [
        "pip install parquet"
      ]
    },
    {
      "cell_type": "code",
      "execution_count": 3,
      "metadata": {
        "id": "0K8kRkrpSbFp"
      },
      "outputs": [],
      "source": [
        "# Importando classes e funções para modelos de classificação\n",
        "from sklearn.tree import DecisionTreeClassifier\n",
        "# Importando métricas de avaliação do modelo\n",
        "from sklearn.metrics import accuracy_score, classification_report, confusion_matrix\n",
        "from sklearn.model_selection import RandomizedSearchCV\n",
        "\n",
        "from sklearn.ensemble import RandomForestClassifier\n",
        "\n",
        "\n",
        "# Importando classes e funções para divisão de dados e busca de hiperparâmetros\n",
        "from sklearn.model_selection import train_test_split, GridSearchCV\n",
        "from sklearn.metrics import precision_score\n",
        "from sklearn.naive_bayes import GaussianNB # Import the GaussianNB class\n",
        "# Importando bibliotecas de uso geral\n",
        "import numpy as np\n",
        "import pandas as pd\n",
        "\n",
        "# Importando bibliotecas de visualização de dados\n",
        "import seaborn as sns\n",
        "import matplotlib.pyplot as plt\n",
        "from sklearn.metrics import recall_score, f1_score\n",
        "\n",
        "# Importando biblioteca para salvar e carregar modelos treinados\n",
        "import joblib\n",
        "from sklearn.metrics import confusion_matrix\n",
        "# Importando a biblioteca de deep learning do TensorFlow\n",
        "import tensorflow as tf\n",
        "import pandas\n",
        "import matplotlib.pyplot as plt\n",
        "\n",
        "import pandas\n",
        "import numpy\n",
        "import seaborn\n",
        "import warnings\n",
        "import gc\n",
        "warnings.filterwarnings('ignore')\n",
        "import os\n",
        "import parquet\n",
        "import time\n",
        "\n",
        "\n"
      ]
    },
    {
      "cell_type": "code",
      "execution_count": 4,
      "metadata": {
        "id": "27N5pLn3pG87"
      },
      "outputs": [],
      "source": [
        "#importação do dataset, ajuste de tipagem de dados para melhor uso de memória\n",
        "#Análise Exploratória dos dados disponível em https://github.com/Jaquelinedops/CICIoT2023/blob/main/Analise%20de%20CICIoT23(1).ipynb\n",
        "\n",
        "def read_dataset(path= \"/content/drive/MyDrive/lab/CICIoT2023/\",filename = \"data.parquet\", bool_col_list=[],int_col_list=[]):\n",
        "  df = pandas.read_parquet(path + filename, engine='pyarrow', memory_map=True)\n",
        "  gc.collect()\n",
        "  df[bool_col_list] = df[bool_col_list].astype('int8')\n",
        "  df[int_col_list] = df[int_col_list].astype('int32')\n",
        "  gc.collect()\n",
        "  return df\n",
        "\n",
        "def generate_train_test_split(df, X_columns = [], test_size=0.2, random_state=10):\n",
        "  X = df[X_columns]\n",
        "  Y = df['label']\n",
        "  X_train, X_test, Y_train, Y_test = train_test_split(X, Y, random_state=random_state, test_size=test_size)\n",
        "  gc.collect()\n",
        "  return X_train, X_test, Y_train, Y_test\n",
        "\n",
        "def barh_plot(df, column_name = \"label\",lenght = 10, width = 10):\n",
        "  labels = df[column_name].value_counts().index.to_list()\n",
        "  composition = df[column_name].value_counts(normalize=True) * 100\n",
        "  fig, ax = plt.subplots(figsize=(lenght, width))\n",
        "  ax.barh(labels, composition, color='blue')\n",
        "  ax.set_xlabel('Percentage', fontsize=16)\n",
        "  ax.tick_params(labelsize=14)\n",
        "  ax.set_ylabel('Label', fontsize=16)\n",
        "  ax.set_title('Data Composition - Percentage of labeled data by class', fontsize=16)\n",
        "  plt.show()\n",
        "\n",
        "def calc_metrics(model_name = \"model\",y_true =[], y_pred=[], start_time=0, end_time=0, average = \"weighted\"):\n",
        "  accuracy_clf = accuracy_score(Y_test, y_pred)\n",
        "  recall = recall_score(Y_test, y_pred, average = average)\n",
        "  f1 = f1_score(Y_test, y_pred, average = average)\n",
        "  precision = precision_score(Y_test, y_pred,  average = average)\n",
        "\n",
        "  results  = { 'model_name': model_name,\n",
        "             'start_time': start_time,\n",
        "             'end_time': end_time,\n",
        "             'accuracy': accuracy_clf,\n",
        "             'recall': recall,\n",
        "             'precision':precision,\n",
        "             'f1-score': f1}\n",
        "  return results\n",
        "\n",
        "def plot_confusion_matrix(cm, classes, normalize=False, title='Confusion matrix', cmap=plt.cm.Blues):\n",
        "  plt.imshow(cm, interpolation='nearest', cmap=cmap)\n",
        "  plt.title(title)\n",
        "  plt.colorbar()\n",
        "  plt.figure(figsize=(25, 25))\n",
        "  tick_marks = np.arange(len(classes))\n",
        "  plt.xticks(tick_marks, classes, rotation=45)\n",
        "  plt.yticks(tick_marks, classes)\n",
        "  if normalize: cm = cm.astype('float') / cm.sum(axis=1)[:, np.newaxis]\n",
        "  thresh = cm.max() / 2.\n",
        "  for i in range(cm.shape[0]):\n",
        "    for j in range(cm.shape[1]):\n",
        "      plt.text(j, i, cm[i, j], horizontalalignment=\"center\", color=\"white\" if cm[i, j] > thresh else \"black\")\n",
        "  plt.tight_layout()\n",
        "  plt.ylabel('True label')\n",
        "  plt.xlabel('Predicted label')\n",
        "\n"
      ]
    },
    {
      "cell_type": "markdown",
      "metadata": {
        "id": "Sikhhu8rZTzt"
      },
      "source": [
        "#Importação do parquet - gerado em EDA_CICIoT23.ipynb"
      ]
    },
    {
      "cell_type": "markdown",
      "metadata": {
        "id": "QmauxMATddk4"
      },
      "source": [
        "The variables were selected as independent, dependent - calculated, boolean, integer as identified in EDA.py\n",
        "\n"
      ]
    },
    {
      "cell_type": "code",
      "execution_count": 5,
      "metadata": {
        "id": "Xay4j8gfxo02"
      },
      "outputs": [],
      "source": [
        "X_columns = [\n",
        "    'flow_duration', 'Header_Length', 'Protocol Type', 'Duration',\n",
        "       'Rate', 'Srate', 'Drate', 'fin_flag_number', 'syn_flag_number',\n",
        "       'rst_flag_number', 'psh_flag_number', 'ack_flag_number',\n",
        "       'ece_flag_number', 'cwr_flag_number', 'ack_count',\n",
        "       'syn_count', 'fin_count', 'urg_count', 'rst_count',\n",
        "       'HTTP', 'HTTPS', 'DNS', 'Telnet', 'SMTP', 'SSH', 'IRC', 'TCP',\n",
        "       'UDP', 'DHCP', 'ARP', 'ICMP', 'IPv', 'LLC',\n",
        "       ]\n",
        "\n",
        "#dependent variables /calculated\n",
        "X_columns_calc = ['Tot sum', 'Min',\n",
        "       'Max', 'AVG', 'Std', 'Tot size', 'IAT', 'Number', 'Magnitue',\n",
        "       'Radius', 'Covariance', 'Variance', 'Weight',]\n",
        "\n",
        "int_col_list = ['flow_duration', 'Header_Length', 'Protocol Type', 'Duration', 'Rate', 'Srate', 'Drate', 'ack_count', 'syn_count', 'fin_count', 'urg_count', 'rst_count', 'Tot sum', 'Min', 'Max', 'AVG', 'Std', 'Tot size', 'IAT', 'Number', 'Magnitue', 'Radius', 'Covariance', 'Variance', 'Weight']\n",
        "bool_col_list = ['fin_flag_number', 'syn_flag_number', 'rst_flag_number', 'psh_flag_number', 'ack_flag_number', 'ece_flag_number', 'cwr_flag_number', 'HTTP', 'HTTPS', 'DNS', 'Telnet', 'SMTP', 'SSH', 'IRC', 'TCP', 'UDP', 'DHCP', 'ARP', 'ICMP', 'IPv', 'LLC']\n"
      ]
    },
    {
      "cell_type": "markdown",
      "metadata": {
        "id": "RELBLxe2eBa3"
      },
      "source": [
        "reading parquet dataset\n",
        "\n",
        "``````\n"
      ]
    },
    {
      "cell_type": "code",
      "execution_count": 6,
      "metadata": {
        "id": "8HHiN3Fhcws4"
      },
      "outputs": [],
      "source": [
        "path= \"/content/drive/MyDrive/lab/CICIoT2023/\"\n",
        "filename = \"data.parquet\"\n",
        "df = read_dataset(bool_col_list=bool_col_list,int_col_list=int_col_list)"
      ]
    },
    {
      "cell_type": "markdown",
      "source": [
        "Data composition from CICIot2023"
      ],
      "metadata": {
        "id": "UZRUrjJoKNms"
      }
    },
    {
      "cell_type": "code",
      "execution_count": null,
      "metadata": {
        "colab": {
          "base_uri": "https://localhost:8080/",
          "height": 885
        },
        "id": "RK0NFRIFBSFv",
        "outputId": "675bb917-f656-4337-8451-2bdbb20ae99f"
      },
      "outputs": [
        {
          "output_type": "display_data",
          "data": {
            "text/plain": [
              "<Figure size 1000x1000 with 1 Axes>"
            ],
            "image/png": "[encoded data removed]"
          },
          "metadata": {}
        }
      ],
      "source": [
        "#Distribuição dos dados\n",
        "barh_plot(df, column_name = \"label\")"
      ]
    },
    {
      "cell_type": "markdown",
      "source": [],
      "metadata": {
        "id": "y1z3TRuaMGMm"
      }
    },
    {
      "cell_type": "markdown",
      "source": [
        "This study select only benign and web application attacks to train and predict     \n",
        "    'BrowserHijacking','Backdoor_Malware','XSS','Uploading_Attack',   'SqlInjection','CommandInjection'\n",
        "\n"
      ],
      "metadata": {
        "id": "jysnc93bL6WK"
      }
    },
    {
      "cell_type": "code",
      "execution_count": 7,
      "metadata": {
        "id": "WucqIftPgHvL"
      },
      "outputs": [],
      "source": [
        "group_by_label = {\n",
        "    'DDoS-RSTFINFlood': 'DDoS',\n",
        "    'DDoS-PSHACK_Flood': 'DDoS',\n",
        "    'DDoS-SYN_Flood': 'DDoS',\n",
        "    'DDoS-UDP_Flood': 'DDoS',\n",
        "    'DDoS-TCP_Flood': 'DDoS',\n",
        "    'DDoS-ICMP_Flood': 'DDoS',\n",
        "    'DDoS-SynonymousIP_Flood': 'DDoS',\n",
        "    'DDoS-ACK_Fragmentation': 'DDoS',\n",
        "    'DDoS-UDP_Fragmentation': 'DDoS',\n",
        "    'DDoS-ICMP_Fragmentation': 'DDoS',\n",
        "    'DDoS-SlowLoris': 'DDoS',\n",
        "    'DDoS-HTTP_Flood': 'DDoS',\n",
        "    'DoS-UDP_Flood': 'DoS',\n",
        "    'DoS-SYN_Flood': 'DoS',\n",
        "    'DoS-TCP_Flood': 'DoS',\n",
        "    'DoS-HTTP_Flood': 'DoS',\n",
        "    'Mirai-greeth_flood': 'Mirai',\n",
        "    'Mirai-greip_flood': 'Mirai',\n",
        "    'Mirai-udpplain': 'Mirai',\n",
        "    'Recon-PingSweep': 'Recon',\n",
        "    'Recon-OSScan': 'Recon',\n",
        "    'Recon-PortScan': 'Recon',\n",
        "    'VulnerabilityScan': 'Recon',\n",
        "    'Recon-HostDiscovery': 'Recon',\n",
        "    'DNS_Spoofing': 'Spoofing',\n",
        "    'MITM-ArpSpoofing': 'Spoofing',\n",
        "    'BenignTraffic': 'Benign',\n",
        "    'BrowserHijacking': 'Application',\n",
        "    'Backdoor_Malware': 'Application',\n",
        "    'XSS': 'Application',\n",
        "    'Uploading_Attack': 'Application',\n",
        "    'SqlInjection': 'Application',\n",
        "    'CommandInjection': 'Application',\n",
        "    'DictionaryBruteForce': 'Bruteforce'\n",
        "}"
      ]
    },
    {
      "cell_type": "code",
      "execution_count": 8,
      "metadata": {
        "id": "eNpWT28dvfKQ"
      },
      "outputs": [],
      "source": [
        "df['label'] = df['label'].apply(lambda x : group_by_label[x])"
      ]
    },
    {
      "cell_type": "code",
      "source": [
        "#Distribuição dos dados\n",
        "barh_plot(df, column_name = \"label\")"
      ],
      "metadata": {
        "colab": {
          "base_uri": "https://localhost:8080/",
          "height": 885
        },
        "id": "AQZROsTQfzWV",
        "outputId": "b5249bee-bcd5-4ee0-fe09-33ded5b6906c"
      },
      "execution_count": 9,
      "outputs": [
        {
          "output_type": "display_data",
          "data": {
            "text/plain": [
              "<Figure size 1000x1000 with 1 Axes>"
            ],
            "image/png": "[encoded data removed]"
          },
          "metadata": {}
        }
      ]
    },
    {
      "cell_type": "code",
      "source": [
        "df_group = pd.concat([df[df['label'] == 'Application'], df[df['label'] == 'Benign']], axis=0)\n",
        "df_group['label'] = df_group['label'].apply(lambda x: 1 if x == 'Application' else 0)\n",
        "X_train, X_test, Y_train, Y_test = generate_train_test_split(df_group, X_columns, test_size=0.2, random_state=10)\n",
        "gc.collect()"
      ],
      "metadata": {
        "colab": {
          "base_uri": "https://localhost:8080/"
        },
        "id": "ZEPdCSKRfuNI",
        "outputId": "4999f54b-9eef-4322-bf35-c8b34e269939"
      },
      "execution_count": 9,
      "outputs": [
        {
          "output_type": "execute_result",
          "data": {
            "text/plain": [
              "0"
            ]
          },
          "metadata": {},
          "execution_count": 9
        }
      ]
    },
    {
      "cell_type": "markdown",
      "source": [
        "Distribuição dos dados\n"
      ],
      "metadata": {
        "id": "Q8fCaB--Mbsi"
      }
    },
    {
      "cell_type": "code",
      "source": [
        "#Distribuição dos dados\n",
        "barh_plot(df_group, column_name = \"label\")"
      ],
      "metadata": {
        "colab": {
          "base_uri": "https://localhost:8080/",
          "height": 885
        },
        "id": "uvJOw_qeJu7A",
        "outputId": "c8814b0a-6c6c-4f52-a6bf-1da5f6eea142"
      },
      "execution_count": 11,
      "outputs": [
        {
          "output_type": "display_data",
          "data": {
            "text/plain": [
              "<Figure size 1000x1000 with 1 Axes>"
            ],
            "image/png": "[encoded data removed]"
          },
          "metadata": {}
        }
      ]
    },
    {
      "cell_type": "markdown",
      "metadata": {
        "id": "K2StYtkFasjq"
      },
      "source": [
        "# Predicting models"
      ]
    },
    {
      "cell_type": "markdown",
      "metadata": {
        "id": "sJIOxctNGGlW"
      },
      "source": [
        "#Predição sobre labels categorizados por tipo de ataque"
      ]
    },
    {
      "cell_type": "markdown",
      "source": [
        "# Decision Tree não balanceado"
      ],
      "metadata": {
        "id": "68mMBqKYIWF6"
      }
    },
    {
      "cell_type": "code",
      "execution_count": null,
      "metadata": {
        "id": "QGV_ImIWoMgX"
      },
      "outputs": [],
      "source": [
        "DT = DecisionTreeClassifier()\n",
        "DT.fit(X_train, Y_train)\n",
        "start = time.time()\n",
        "y_pred = DT.predict(X_test)\n",
        "end = time.time()\n",
        "time_elapsed = end - start\n",
        "results = calc_metrics(model_name = \"Decision_tree_unbalanced\",y_true =Y_test, y_pred=y_pred, start_time=start, end_time=end)\n",
        "report =classification_report(Y_test, y_pred)"
      ]
    },
    {
      "cell_type": "code",
      "execution_count": null,
      "metadata": {
        "colab": {
          "base_uri": "https://localhost:8080/"
        },
        "id": "0R-7KY-GocXw",
        "outputId": "f1e288fe-7351-447a-f229-61b209becf40"
      },
      "outputs": [
        {
          "output_type": "execute_result",
          "data": {
            "text/plain": [
              "{'model_name': 'Decision_tree_unbalanced',\n",
              " 'start_time': 1719082284.5537653,\n",
              " 'end_time': 1719082295.5432324,\n",
              " 'accuracy': 0.9804456712895973,\n",
              " 'recall': 0.9804456712895973,\n",
              " 'precision': 0.9807474488120455,\n",
              " 'f1-score': 0.9805933097598084}"
            ]
          },
          "metadata": {},
          "execution_count": 12
        }
      ],
      "source": [
        "results"
      ]
    },
    {
      "cell_type": "code",
      "execution_count": null,
      "metadata": {
        "colab": {
          "base_uri": "https://localhost:8080/"
        },
        "id": "uI18Zfovod5v",
        "outputId": "4982c74a-1969-444f-cf61-dc73e1730941"
      },
      "outputs": [
        {
          "output_type": "stream",
          "name": "stdout",
          "text": [
            "              precision    recall  f1-score   support\n",
            "\n",
            "           0       0.99      0.99      0.99    219512\n",
            "           1       0.57      0.58      0.58      5093\n",
            "\n",
            "    accuracy                           0.98    224605\n",
            "   macro avg       0.78      0.79      0.78    224605\n",
            "weighted avg       0.98      0.98      0.98    224605\n",
            "\n"
          ]
        }
      ],
      "source": [
        "print(report)"
      ]
    },
    {
      "cell_type": "markdown",
      "source": [
        "As we have an unbalanced dataset here we applied weights to the data for training"
      ],
      "metadata": {
        "id": "epwaWpYrMhSi"
      }
    },
    {
      "cell_type": "code",
      "execution_count": null,
      "metadata": {
        "id": "MTkGT2SBzagE"
      },
      "outputs": [],
      "source": [
        "# Calcular a distribuição de classes no conjunto de treino\n",
        "class_distribution = Y_train.value_counts(normalize=True)\n",
        "# Definir o peso para cada classe com base na sua distribuição\n",
        "class_weights = {cls: 1 / proportion for cls, proportion in class_distribution.items()} # Create a dictionary mapping class labels to weights\n"
      ]
    },
    {
      "cell_type": "code",
      "execution_count": null,
      "metadata": {
        "id": "2xsKQfjCzdzv"
      },
      "outputs": [],
      "source": [
        "DT = DecisionTreeClassifier(class_weight=class_weights)\n",
        "DT.fit(X_train, Y_train)\n",
        "start = time.time()\n",
        "y_pred = DT.predict(X_test)\n",
        "end = time.time()\n",
        "time_elapsed = end - start\n",
        "results = calc_metrics(model_name = \"Decision_tree_balanced\",y_true =Y_test, y_pred=y_pred, start_time=start, end_time=end,average=\"weighted\")\n",
        "report =classification_report(Y_test, y_pred)"
      ]
    },
    {
      "cell_type": "code",
      "execution_count": null,
      "metadata": {
        "colab": {
          "base_uri": "https://localhost:8080/"
        },
        "id": "z6NgK0cKz6hf",
        "outputId": "396dbd8e-cc22-4b95-e958-d1b924baddd2"
      },
      "outputs": [
        {
          "output_type": "stream",
          "name": "stdout",
          "text": [
            "              precision    recall  f1-score   support\n",
            "\n",
            "           0       0.99      0.99      0.99    219512\n",
            "           1       0.59      0.55      0.57      5093\n",
            "\n",
            "    accuracy                           0.98    224605\n",
            "   macro avg       0.79      0.77      0.78    224605\n",
            "weighted avg       0.98      0.98      0.98    224605\n",
            "\n"
          ]
        }
      ],
      "source": [
        "print(report)"
      ]
    },
    {
      "cell_type": "code",
      "execution_count": null,
      "metadata": {
        "colab": {
          "base_uri": "https://localhost:8080/"
        },
        "id": "N8JKRC1Rz351",
        "outputId": "df628703-1df3-4d16-ac12-00f88f218825"
      },
      "outputs": [
        {
          "output_type": "execute_result",
          "data": {
            "text/plain": [
              "{'model_name': 'Decision_tree_balanced',\n",
              " 'start_time': 1719082319.4111845,\n",
              " 'end_time': 1719082331.7172685,\n",
              " 'accuracy': 0.9811179626455333,\n",
              " 'recall': 0.9811179626455333,\n",
              " 'precision': 0.9804235991162421,\n",
              " 'f1-score': 0.9807494937890129}"
            ]
          },
          "metadata": {},
          "execution_count": 17
        }
      ],
      "source": [
        "results"
      ]
    },
    {
      "cell_type": "markdown",
      "source": [
        "RandomForest não balanceado"
      ],
      "metadata": {
        "id": "-Ha5BIGKSzJb"
      }
    },
    {
      "cell_type": "code",
      "execution_count": null,
      "metadata": {
        "id": "TrNW53_g4BPw"
      },
      "outputs": [],
      "source": [
        "\n",
        "rfc = RandomForestClassifier(n_estimators=100)\n",
        "rfc.fit(X_train, Y_train)\n",
        "start = time.time()\n",
        "y_pred_rfc = rfc.predict(X_test)\n",
        "end = time.time()\n",
        "results = calc_metrics(model_name = \"RandomForest\",y_true =Y_test, y_pred=y_pred_rfc, start_time=start, end_time=end,average=\"macro\")\n",
        "report =classification_report(Y_test, y_pred_rfc)\n"
      ]
    },
    {
      "cell_type": "code",
      "execution_count": null,
      "metadata": {
        "colab": {
          "base_uri": "https://localhost:8080/"
        },
        "id": "kZe9DGTiA_1z",
        "outputId": "7bd17eb8-75c9-4774-f01c-00a3af983693"
      },
      "outputs": [
        {
          "output_type": "execute_result",
          "data": {
            "text/plain": [
              "{'model_name': 'RandomForest',\n",
              " 'start_time': 1719082319.4111845,\n",
              " 'end_time': 1719082331.7172685,\n",
              " 'accuracy': 0.9867411678279646,\n",
              " 'recall': 0.7421605608261861,\n",
              " 'precision': 0.9306054248968079,\n",
              " 'f1-score': 0.8088104024138348}"
            ]
          },
          "metadata": {},
          "execution_count": 19
        }
      ],
      "source": [
        "results"
      ]
    },
    {
      "cell_type": "code",
      "execution_count": null,
      "metadata": {
        "colab": {
          "base_uri": "https://localhost:8080/"
        },
        "id": "z8h33Q3FBNym",
        "outputId": "a6a11538-2704-4716-d6e4-efc24ab2a3b6"
      },
      "outputs": [
        {
          "output_type": "stream",
          "name": "stdout",
          "text": [
            "              precision    recall  f1-score   support\n",
            "\n",
            "           0       0.99      1.00      0.99    219512\n",
            "           1       0.87      0.49      0.62      5093\n",
            "\n",
            "    accuracy                           0.99    224605\n",
            "   macro avg       0.93      0.74      0.81    224605\n",
            "weighted avg       0.99      0.99      0.98    224605\n",
            "\n"
          ]
        }
      ],
      "source": [
        "print(report)"
      ]
    },
    {
      "cell_type": "markdown",
      "source": [
        "RandomForest balanceado\n",
        "\n"
      ],
      "metadata": {
        "id": "7R2dVwerS5XY"
      }
    },
    {
      "cell_type": "code",
      "source": [
        "from sklearn.ensemble import RandomForestClassifier\n",
        "\n",
        "\n",
        "rfc = RandomForestClassifier(n_estimators=100, class_weight=class_weights)\n",
        "rfc.fit(X_train, Y_train)\n",
        "start = time.time()\n",
        "y_pred_rfc = rfc.predict(X_test)\n",
        "end = time.time()\n",
        "results = calc_metrics(model_name = \"RandomForest\",y_true =Y_test, y_pred=y_pred_rfc, start_time=start, end_time=end,average=\"macro\")\n",
        "report =classification_report(Y_test, y_pred_rfc)"
      ],
      "metadata": {
        "id": "6SJgjOqPM6zC"
      },
      "execution_count": null,
      "outputs": []
    },
    {
      "cell_type": "code",
      "source": [
        "results"
      ],
      "metadata": {
        "colab": {
          "base_uri": "https://localhost:8080/"
        },
        "id": "h-x0N4HtNIxO",
        "outputId": "b93a52a2-e2a1-4ff5-f636-f420d8b9f8dd"
      },
      "execution_count": null,
      "outputs": [
        {
          "output_type": "execute_result",
          "data": {
            "text/plain": [
              "{'model_name': 'RandomForest',\n",
              " 'start_time': 1719077564.3568962,\n",
              " 'end_time': 1719077577.789387,\n",
              " 'accuracy': 0.986416152801585,\n",
              " 'recall': 0.7303908445806787,\n",
              " 'precision': 0.9353147568947215,\n",
              " 'f1-score': 0.799933962399008}"
            ]
          },
          "metadata": {},
          "execution_count": 70
        }
      ]
    },
    {
      "cell_type": "code",
      "source": [
        "print(report)"
      ],
      "metadata": {
        "colab": {
          "base_uri": "https://localhost:8080/"
        },
        "id": "cy_Efa_8NJc0",
        "outputId": "82fb09a3-ebab-4bbc-909e-ab904908281c"
      },
      "execution_count": null,
      "outputs": [
        {
          "output_type": "stream",
          "name": "stdout",
          "text": [
            "              precision    recall  f1-score   support\n",
            "\n",
            "           0       0.99      1.00      0.99    219512\n",
            "           1       0.88      0.46      0.61      5093\n",
            "\n",
            "    accuracy                           0.99    224605\n",
            "   macro avg       0.94      0.73      0.80    224605\n",
            "weighted avg       0.99      0.99      0.98    224605\n",
            "\n"
          ]
        }
      ]
    },
    {
      "cell_type": "code",
      "source": [
        "from sklearn.naive_bayes import GaussianNB\n",
        "\n",
        "nb = GaussianNB()\n",
        "nb.fit(X_train, Y_train)\n",
        "start = time.time()\n",
        "y_pred_nb = nb.predict(X_test)\n",
        "end = time.time()\n",
        "results = calc_metrics(model_name = \"GaussianNB_unbalanced\",y_true =Y_test, y_pred=y_pred_nb, start_time=start, end_time=end,average=\"macro\")\n",
        "report =classification_report(Y_test, y_pred_nb)"
      ],
      "metadata": {
        "id": "mVGAlajgUhbO"
      },
      "execution_count": 19,
      "outputs": []
    },
    {
      "cell_type": "code",
      "source": [
        "results"
      ],
      "metadata": {
        "colab": {
          "base_uri": "https://localhost:8080/"
        },
        "id": "EkMPyGWFUxlZ",
        "outputId": "4ca6f161-d14e-438a-83d4-66c9d218bd77"
      },
      "execution_count": 20,
      "outputs": [
        {
          "output_type": "execute_result",
          "data": {
            "text/plain": [
              "{'model_name': 'GaussianNB_unbalanced',\n",
              " 'start_time': 1719103560.8162804,\n",
              " 'end_time': 1719103560.9244378,\n",
              " 'accuracy': 0.9720709690345273,\n",
              " 'recall': 0.6653223350108693,\n",
              " 'precision': 0.6794237318919867,\n",
              " 'f1-score': 0.6720584655441793}"
            ]
          },
          "metadata": {},
          "execution_count": 20
        }
      ]
    },
    {
      "cell_type": "code",
      "source": [
        "print(report)"
      ],
      "metadata": {
        "colab": {
          "base_uri": "https://localhost:8080/"
        },
        "id": "zlcoGhsuUyrx",
        "outputId": "c70a5dc4-b952-47a7-e6e6-7c2747ce0887"
      },
      "execution_count": 21,
      "outputs": [
        {
          "output_type": "stream",
          "name": "stdout",
          "text": [
            "              precision    recall  f1-score   support\n",
            "\n",
            "           0       0.98      0.99      0.99    219512\n",
            "           1       0.37      0.34      0.36      5093\n",
            "\n",
            "    accuracy                           0.97    224605\n",
            "   macro avg       0.68      0.67      0.67    224605\n",
            "weighted avg       0.97      0.97      0.97    224605\n",
            "\n"
          ]
        }
      ]
    },
    {
      "cell_type": "code",
      "source": [
        "print(report)"
      ],
      "metadata": {
        "colab": {
          "base_uri": "https://localhost:8080/"
        },
        "id": "5VD4BfEeVIk9",
        "outputId": "1eb5ed70-c33a-4cec-b039-b12081dedd56"
      },
      "execution_count": null,
      "outputs": [
        {
          "output_type": "stream",
          "name": "stdout",
          "text": [
            "              precision    recall  f1-score   support\n",
            "\n",
            "           0       0.99      1.00      0.99    219512\n",
            "           1       0.87      0.49      0.62      5093\n",
            "\n",
            "    accuracy                           0.99    224605\n",
            "   macro avg       0.93      0.74      0.81    224605\n",
            "weighted avg       0.99      0.99      0.98    224605\n",
            "\n"
          ]
        }
      ]
    },
    {
      "cell_type": "markdown",
      "source": [
        "Balancing the dataset didn't improve the model recall result, so here we apply oversampling augmentation methodology, particularly using the SMOTE (Synthetic Minority Oversampling Technique) algorithm to the train dataset"
      ],
      "metadata": {
        "id": "1mupEYwhOsJZ"
      }
    },
    {
      "cell_type": "code",
      "source": [
        "from imblearn.over_sampling import SMOTE\n",
        "X = X_train\n",
        "y = Y_train\n",
        "\n",
        "smote = SMOTE(sampling_strategy='auto', random_state=42)\n",
        "X_resampled, y_resampled = smote.fit_resample(X, y)\n",
        "\n",
        "resampled_df = pd.DataFrame(X_resampled, columns=X.columns)\n",
        "resampled_df['label'] = y_resampled\n",
        "\n",
        "resampled_df.value_counts('label')\n",
        "gc.collect()"
      ],
      "metadata": {
        "colab": {
          "base_uri": "https://localhost:8080/"
        },
        "id": "JTT3APzkBpK9",
        "outputId": "5c560767-d5cf-4d05-94c7-cc0c5ed184fc"
      },
      "execution_count": 10,
      "outputs": [
        {
          "output_type": "execute_result",
          "data": {
            "text/plain": [
              "0"
            ]
          },
          "metadata": {},
          "execution_count": 10
        }
      ]
    },
    {
      "cell_type": "code",
      "source": [
        "from sklearn.ensemble import RandomForestClassifier\n",
        "\n",
        "\n",
        "rfc_sampled = RandomForestClassifier(n_estimators=100)\n",
        "rfc_sampled.fit(X_resampled, y_resampled)\n",
        "start = time.time()\n",
        "y_pred_rfc = rfc_sampled.predict(X_test)\n",
        "end = time.time()\n",
        "results = calc_metrics(model_name = \"RandomForest_sampled\",y_true =Y_test, y_pred=y_pred_rfc, start_time=start, end_time=end,average=\"macro\")\n",
        "report =classification_report(Y_test, y_pred_rfc)\n"
      ],
      "metadata": {
        "id": "9Wg6GyGwBy0y"
      },
      "execution_count": null,
      "outputs": []
    },
    {
      "cell_type": "code",
      "source": [
        "results"
      ],
      "metadata": {
        "colab": {
          "base_uri": "https://localhost:8080/"
        },
        "id": "H15dEkJrCBT1",
        "outputId": "ef26a89b-d067-48af-d70e-0d8f3ae01aae"
      },
      "execution_count": null,
      "outputs": [
        {
          "output_type": "execute_result",
          "data": {
            "text/plain": [
              "{'model_name': 'RandomForest_sampled',\n",
              " 'start_time': 1719084224.1698785,\n",
              " 'end_time': 1719084228.7129123,\n",
              " 'accuracy': 0.9654504574697803,\n",
              " 'recall': 0.885756970979384,\n",
              " 'precision': 0.6861306434493548,\n",
              " 'f1-score': 0.7475099865114934}"
            ]
          },
          "metadata": {},
          "execution_count": 68
        }
      ]
    },
    {
      "cell_type": "code",
      "source": [
        "print(report)"
      ],
      "metadata": {
        "colab": {
          "base_uri": "https://localhost:8080/"
        },
        "id": "Ed7tGONLCCdX",
        "outputId": "eaf3d21e-7be5-4df1-9fa0-640c54972216"
      },
      "execution_count": null,
      "outputs": [
        {
          "output_type": "stream",
          "name": "stdout",
          "text": [
            "              precision    recall  f1-score   support\n",
            "\n",
            "           0       1.00      0.97      0.98    219512\n",
            "           1       0.38      0.80      0.51      5093\n",
            "\n",
            "    accuracy                           0.97    224605\n",
            "   macro avg       0.69      0.89      0.75    224605\n",
            "weighted avg       0.98      0.97      0.97    224605\n",
            "\n"
          ]
        }
      ]
    },
    {
      "cell_type": "code",
      "source": [
        "dtc_sampled = DecisionTreeClassifier()\n",
        "dtc_sampled.fit(X_resampled, y_resampled)\n",
        "start = time.time()\n",
        "y_pred_dtc = dtc_sampled.predict(X_test)\n",
        "end = time.time()\n",
        "results = calc_metrics(model_name = \"DecisionTreeClassifier_Sampled\",y_true =Y_test, y_pred=y_pred_dtc, start_time=start, end_time=end,average=\"macro\")\n",
        "report =classification_report(Y_test, y_pred_dtc)"
      ],
      "metadata": {
        "id": "CHzsUiEbVrjZ"
      },
      "execution_count": null,
      "outputs": []
    },
    {
      "cell_type": "code",
      "source": [
        "results"
      ],
      "metadata": {
        "colab": {
          "base_uri": "https://localhost:8080/"
        },
        "id": "KvPEOKAsWJru",
        "outputId": "c8a749d9-732b-46ad-8ec2-87137f49f577"
      },
      "execution_count": null,
      "outputs": [
        {
          "output_type": "execute_result",
          "data": {
            "text/plain": [
              "{'model_name': 'DecisionTreeClassifier_Sampled',\n",
              " 'start_time': 1719084265.0566924,\n",
              " 'end_time': 1719084265.1068256,\n",
              " 'accuracy': 0.9650185881881526,\n",
              " 'recall': 0.8496708533496793,\n",
              " 'precision': 0.678954747644254,\n",
              " 'f1-score': 0.7338627151344307}"
            ]
          },
          "metadata": {},
          "execution_count": 71
        }
      ]
    },
    {
      "cell_type": "code",
      "source": [
        "print(report)"
      ],
      "metadata": {
        "colab": {
          "base_uri": "https://localhost:8080/"
        },
        "id": "4ZWWHKlFWKto",
        "outputId": "ad706efb-a9f6-453d-dc91-2f87f5f838f6"
      },
      "execution_count": null,
      "outputs": [
        {
          "output_type": "stream",
          "name": "stdout",
          "text": [
            "              precision    recall  f1-score   support\n",
            "\n",
            "           0       0.99      0.97      0.98    219512\n",
            "           1       0.36      0.73      0.49      5093\n",
            "\n",
            "    accuracy                           0.97    224605\n",
            "   macro avg       0.68      0.85      0.73    224605\n",
            "weighted avg       0.98      0.97      0.97    224605\n",
            "\n"
          ]
        }
      ]
    },
    {
      "cell_type": "code",
      "source": [
        "nb_oversampled = GaussianNB()\n",
        "nb_oversampled.fit(X_resampled, y_resampled)\n",
        "start = time.time()\n",
        "y_pred_nb_os = nb_oversampled.predict(X_test)\n",
        "end = time.time()\n",
        "results = calc_metrics(model_name = \"GaussianNB_oversampled\",y_true =Y_test, y_pred=y_pred_nb_os, start_time=start, end_time=end,average=\"macro\")\n",
        "report =classification_report(Y_test, y_pred_nb_os)"
      ],
      "metadata": {
        "id": "rdvXGfTmXbhr"
      },
      "execution_count": 22,
      "outputs": []
    },
    {
      "cell_type": "code",
      "source": [
        "results"
      ],
      "metadata": {
        "colab": {
          "base_uri": "https://localhost:8080/"
        },
        "id": "-YhZg2xLXkj8",
        "outputId": "3ba6b8a9-a7e0-4d75-fe4d-105f2c272452"
      },
      "execution_count": 23,
      "outputs": [
        {
          "output_type": "execute_result",
          "data": {
            "text/plain": [
              "{'model_name': 'GaussianNB_oversampled',\n",
              " 'start_time': 1719103589.6443243,\n",
              " 'end_time': 1719103589.7525196,\n",
              " 'accuracy': 0.5887402328532312,\n",
              " 'recall': 0.7333081415866423,\n",
              " 'precision': 0.5211107285854029,\n",
              " 'f1-score': 0.41166235726297795}"
            ]
          },
          "metadata": {},
          "execution_count": 23
        }
      ]
    },
    {
      "cell_type": "code",
      "source": [
        "print(report)"
      ],
      "metadata": {
        "colab": {
          "base_uri": "https://localhost:8080/"
        },
        "id": "e2aNlyS2XpyG",
        "outputId": "1b8b6d75-0192-4537-9e33-0148b9bcf1bc"
      },
      "execution_count": 24,
      "outputs": [
        {
          "output_type": "stream",
          "name": "stdout",
          "text": [
            "              precision    recall  f1-score   support\n",
            "\n",
            "           0       1.00      0.58      0.73    219512\n",
            "           1       0.05      0.88      0.09      5093\n",
            "\n",
            "    accuracy                           0.59    224605\n",
            "   macro avg       0.52      0.73      0.41    224605\n",
            "weighted avg       0.97      0.59      0.72    224605\n",
            "\n"
          ]
        }
      ]
    },
    {
      "cell_type": "markdown",
      "source": [
        "RandomizedSearchCV is a scikit-learn library for hyperparameter optimization in machine learning models. It explores a vast range of hyperparameter combinations to identify the set that yields the best performance for a given dataset and model."
      ],
      "metadata": {
        "id": "qWaH4nTcQC_v"
      }
    },
    {
      "cell_type": "code",
      "execution_count": null,
      "metadata": {
        "id": "leWdqMycUQRv",
        "colab": {
          "base_uri": "https://localhost:8080/"
        },
        "outputId": "4b9cf327-c439-4b04-9bfb-00a400c5fb16"
      },
      "outputs": [
        {
          "output_type": "stream",
          "name": "stdout",
          "text": [
            "Best parameters: {'min_samples_split': 10, 'min_samples_leaf': 1, 'max_depth': 20, 'criterion': 'gini'}\n",
            "Best model: RandomForestClassifier(max_depth=20, min_samples_split=10)\n"
          ]
        }
      ],
      "source": [
        "\n",
        "\n",
        "param_grid = {\n",
        "    'criterion': ['gini', 'entropy'],\n",
        "    'max_depth': [None, 5, 10, 20],\n",
        "    'min_samples_split': [2, 5, 10],\n",
        "    'min_samples_leaf': [1, 2, 4],\n",
        "}\n",
        "random_search = RandomizedSearchCV(rfc, param_grid, cv=5, n_iter=10)\n",
        "random_search.fit(X_resampled, y_resampled)\n",
        "best_params = random_search.best_params_\n",
        "best_model = random_search.best_estimator_\n",
        "print(\"Best parameters:\", best_params)\n",
        "print(\"Best model:\", best_model)\n"
      ]
    },
    {
      "cell_type": "markdown",
      "source": [
        "Applying the best model from RandomizedSearchCV"
      ],
      "metadata": {
        "id": "LtqLhECtPoZ8"
      }
    },
    {
      "cell_type": "code",
      "execution_count": null,
      "metadata": {
        "id": "XPw4vCDiEgXB"
      },
      "outputs": [],
      "source": [
        "from sklearn.ensemble import RandomForestClassifier  # Import RandomForestClassifier\n",
        "\n",
        "rfc_tunned = RandomForestClassifier(min_samples_split=10, min_samples_leaf=1, max_depth=20, criterion='gini')  # Create a random forest classifier with 100 trees\n",
        "rfc_tunned.fit(X_resampled, y_resampled)\n",
        "start = time.time()\n",
        "y_pred_rfc = rfc_tunned.predict(X_test)\n",
        "end = time.time()\n",
        "results = calc_metrics(model_name = \"RandomForest_ressampled_tunned\",y_true =Y_test, y_pred=y_pred_rfc, start_time=start, end_time=end,average=\"weighted\")\n",
        "report =classification_report(Y_test, y_pred_rfc)"
      ]
    },
    {
      "cell_type": "code",
      "execution_count": null,
      "metadata": {
        "colab": {
          "base_uri": "https://localhost:8080/"
        },
        "id": "sae0v7jzGGc0",
        "outputId": "4246565a-0135-4156-bca1-8f7497881aa2"
      },
      "outputs": [
        {
          "output_type": "stream",
          "name": "stdout",
          "text": [
            "              precision    recall  f1-score   support\n",
            "\n",
            "           0       1.00      0.95      0.97    219512\n",
            "           1       0.28      0.86      0.42      5093\n",
            "\n",
            "    accuracy                           0.95    224605\n",
            "   macro avg       0.64      0.90      0.70    224605\n",
            "weighted avg       0.98      0.95      0.96    224605\n",
            "\n"
          ]
        },
        {
          "output_type": "execute_result",
          "data": {
            "text/plain": [
              "{'model_name': 'RandomForest',\n",
              " 'start_time': 1719077564.3568962,\n",
              " 'end_time': 1719077577.789387,\n",
              " 'accuracy': 0.9463547116048173,\n",
              " 'recall': 0.9463547116048173,\n",
              " 'precision': 0.9803347168407932,\n",
              " 'f1-score': 0.9593882261131792}"
            ]
          },
          "metadata": {},
          "execution_count": 61
        }
      ],
      "source": [
        "print(report)\n",
        "results\n"
      ]
    },
    {
      "cell_type": "code",
      "execution_count": null,
      "metadata": {
        "colab": {
          "base_uri": "https://localhost:8080/"
        },
        "id": "Obeupb08E-4V",
        "outputId": "92340dd1-48c7-4932-c12c-276100090cae"
      },
      "outputs": [
        {
          "output_type": "stream",
          "name": "stdout",
          "text": [
            "Best parameters: {'min_samples_split': 5, 'min_samples_leaf': 1, 'max_depth': None, 'criterion': 'gini'}\n",
            "Best model: DecisionTreeClassifier(min_samples_split=5)\n"
          ]
        }
      ],
      "source": [
        "from sklearn.model_selection import RandomizedSearchCV\n",
        "\n",
        "param_grid = {\n",
        "    'criterion': ['gini', 'entropy'],\n",
        "    'max_depth': [None, 5, 10, 20],\n",
        "    'min_samples_split': [2, 5, 10],\n",
        "    'min_samples_leaf': [1, 2, 4],\n",
        "}\n",
        "\n",
        "random_search = RandomizedSearchCV(dtc_sampled, param_grid, cv=5, n_iter=10)\n",
        "random_search.fit(X_resampled,y_resampled)\n",
        "best_params = random_search.best_params_\n",
        "best_model = random_search.best_estimator_\n",
        "print(\"Best parameters:\", best_params)\n",
        "print(\"Best model:\", best_model)\n"
      ]
    },
    {
      "cell_type": "code",
      "source": [
        "dtc_sampled_tunned = DecisionTreeClassifier(min_samples_split=5,min_samples_leaf=1,max_depth=None, criterion=\"gini\")\n",
        "dtc_sampled_tunned.fit(X_resampled, y_resampled)\n",
        "start = time.time()\n",
        "y_pred_dtc = dtc_sampled_tunned.predict(X_test)\n",
        "end = time.time()\n",
        "results = calc_metrics(model_name = \"DecisionTreeClassifier_Sampled_tunned\",y_true =Y_test, y_pred=y_pred_dtc, start_time=start, end_time=end,average=\"macro\")\n",
        "report =classification_report(Y_test, y_pred_dtc)"
      ],
      "metadata": {
        "id": "WN8LWXF9d_5H"
      },
      "execution_count": null,
      "outputs": []
    },
    {
      "cell_type": "code",
      "source": [
        "results"
      ],
      "metadata": {
        "colab": {
          "base_uri": "https://localhost:8080/"
        },
        "id": "94iVgdD9iPIj",
        "outputId": "95f3c619-12d1-423e-c1ad-056c0bebd607"
      },
      "execution_count": null,
      "outputs": [
        {
          "output_type": "execute_result",
          "data": {
            "text/plain": [
              "{'model_name': 'DecisionTreeClassifier_Sampled_tunned',\n",
              " 'start_time': 1719086438.644268,\n",
              " 'end_time': 1719086438.6923745,\n",
              " 'accuracy': 0.9657799247567953,\n",
              " 'recall': 0.8448819597349426,\n",
              " 'precision': 0.6812377404004191,\n",
              " 'f1-score': 0.7349835584970128}"
            ]
          },
          "metadata": {},
          "execution_count": 89
        }
      ]
    },
    {
      "cell_type": "code",
      "source": [
        "print(report)"
      ],
      "metadata": {
        "colab": {
          "base_uri": "https://localhost:8080/"
        },
        "id": "i3Zj6x6xiQGd",
        "outputId": "6b599e59-eec9-4f3b-923c-cde7ed320a3b"
      },
      "execution_count": null,
      "outputs": [
        {
          "output_type": "stream",
          "name": "stdout",
          "text": [
            "              precision    recall  f1-score   support\n",
            "\n",
            "           0       0.99      0.97      0.98    219512\n",
            "           1       0.37      0.72      0.49      5093\n",
            "\n",
            "    accuracy                           0.97    224605\n",
            "   macro avg       0.68      0.84      0.73    224605\n",
            "weighted avg       0.98      0.97      0.97    224605\n",
            "\n"
          ]
        }
      ]
    },
    {
      "cell_type": "code",
      "source": [
        "# prompt: APPLY RANDOMIZED SEARCH TO GAUSSIANNB\n",
        "\n",
        "import numpy as np\n",
        "param_grid = {\n",
        "    'var_smoothing': np.logspace(0,-9, num=100)\n",
        "}\n",
        "\n",
        "random_search = RandomizedSearchCV(nb_oversampled, param_grid, cv=5, n_iter=10)\n",
        "random_search.fit(X_resampled,y_resampled)\n",
        "best_params = random_search.best_params_\n",
        "best_model = random_search.best_estimator_\n",
        "print(\"Best parameters:\", best_params)\n",
        "print(\"Best model:\", best_model)\n"
      ],
      "metadata": {
        "colab": {
          "base_uri": "https://localhost:8080/"
        },
        "id": "s9Gri_uwjBr4",
        "outputId": "fcde7c61-c453-4c5f-fcee-6454dbceb0f0"
      },
      "execution_count": 27,
      "outputs": [
        {
          "output_type": "stream",
          "name": "stdout",
          "text": [
            "Best parameters: {'var_smoothing': 1e-09}\n",
            "Best model: GaussianNB()\n"
          ]
        }
      ]
    },
    {
      "cell_type": "code",
      "source": [
        "nb_oversampled_tunned = GaussianNB(var_smoothing= 1e-09)\n",
        "nb_oversampled_tunned.fit(X_resampled, y_resampled)\n",
        "start = time.time()\n",
        "y_pred_nb_os = nb_oversampled_tunned.predict(X_test)\n",
        "end = time.time()\n",
        "results = calc_metrics(model_name = \"GaussianNB_oversampled_tunned\",y_true =Y_test, y_pred=y_pred_nb_os, start_time=start, end_time=end,average=\"macro\")\n",
        "report =classification_report(Y_test, y_pred_nb_os)"
      ],
      "metadata": {
        "id": "HWGewZNukwNr"
      },
      "execution_count": 28,
      "outputs": []
    },
    {
      "cell_type": "code",
      "source": [
        "results"
      ],
      "metadata": {
        "colab": {
          "base_uri": "https://localhost:8080/"
        },
        "id": "DoPu2s3_k6F-",
        "outputId": "9347ffa8-96aa-487c-f691-d6bb262b0fbc"
      },
      "execution_count": 29,
      "outputs": [
        {
          "output_type": "execute_result",
          "data": {
            "text/plain": [
              "{'model_name': 'GaussianNB_oversampled_tunned',\n",
              " 'start_time': 1719103879.4347243,\n",
              " 'end_time': 1719103879.5161595,\n",
              " 'accuracy': 0.5887402328532312,\n",
              " 'recall': 0.7333081415866423,\n",
              " 'precision': 0.5211107285854029,\n",
              " 'f1-score': 0.41166235726297795}"
            ]
          },
          "metadata": {},
          "execution_count": 29
        }
      ]
    },
    {
      "cell_type": "code",
      "source": [
        "print(report)"
      ],
      "metadata": {
        "colab": {
          "base_uri": "https://localhost:8080/"
        },
        "id": "GYBmhsWRk7Xx",
        "outputId": "4f062a2f-1719-4dc9-92b6-d7998f6ace83"
      },
      "execution_count": 30,
      "outputs": [
        {
          "output_type": "stream",
          "name": "stdout",
          "text": [
            "              precision    recall  f1-score   support\n",
            "\n",
            "           0       1.00      0.58      0.73    219512\n",
            "           1       0.05      0.88      0.09      5093\n",
            "\n",
            "    accuracy                           0.59    224605\n",
            "   macro avg       0.52      0.73      0.41    224605\n",
            "weighted avg       0.97      0.59      0.72    224605\n",
            "\n"
          ]
        }
      ]
    },
    {
      "cell_type": "markdown",
      "source": [
        "# Feature Selection"
      ],
      "metadata": {
        "id": "n6Xe_JhSlChZ"
      }
    },
    {
      "cell_type": "code",
      "execution_count": 11,
      "metadata": {
        "id": "7I_A-EJ5S-gB"
      },
      "outputs": [],
      "source": [
        "from sklearn.feature_selection import SelectKBest, f_classif\n",
        "X = df_group[X_columns]\n",
        "Y = df_group['label']\n",
        "selector = SelectKBest(f_classif, k=20)\n",
        "X_new = selector.fit_transform(X,Y)\n",
        "selected_features = selector.get_support(indices=True)\n",
        "X_new = df_group.columns[selected_features]"
      ]
    },
    {
      "cell_type": "code",
      "execution_count": 12,
      "metadata": {
        "colab": {
          "base_uri": "https://localhost:8080/"
        },
        "id": "t2KzdMNCYG33",
        "outputId": "b88bd7bd-73ff-442f-e326-9e887acfcbb0"
      },
      "outputs": [
        {
          "output_type": "execute_result",
          "data": {
            "text/plain": [
              "0"
            ]
          },
          "metadata": {},
          "execution_count": 12
        }
      ],
      "source": [
        "X_train, X_test, Y_train, Y_test = generate_train_test_split(df_group, X_new, test_size=0.3, random_state=10)\n",
        "gc.collect()"
      ]
    },
    {
      "cell_type": "code",
      "source": [
        "from imblearn.over_sampling import SMOTE\n",
        "X = X_train\n",
        "y = Y_train\n",
        "\n",
        "smote = SMOTE(sampling_strategy='auto', random_state=42)\n",
        "X_resampled, y_resampled = smote.fit_resample(X, y)\n",
        "\n",
        "resampled_df = pd.DataFrame(X_resampled, columns=X_columns)\n",
        "resampled_df['label'] = y_resampled\n",
        "\n",
        "resampled_df.value_counts('label')\n",
        "gc.collect()"
      ],
      "metadata": {
        "colab": {
          "base_uri": "https://localhost:8080/"
        },
        "id": "yxRxPtRaj0Ge",
        "outputId": "2c85544e-5131-4ac8-f4aa-35cdc0b6b642"
      },
      "execution_count": 13,
      "outputs": [
        {
          "output_type": "execute_result",
          "data": {
            "text/plain": [
              "0"
            ]
          },
          "metadata": {},
          "execution_count": 13
        }
      ]
    },
    {
      "cell_type": "code",
      "execution_count": 15,
      "metadata": {
        "id": "KCrqT4ZAUBAv"
      },
      "outputs": [],
      "source": [
        "from sklearn.ensemble import RandomForestClassifier\n",
        "\n",
        "\n",
        "rfc_featured= RandomForestClassifier(min_samples_split=2, min_samples_leaf=1, max_depth=None, criterion='entropy')  # Create a random forest classifier with 100 trees\n",
        "rfc_featured.fit(X_resampled, y_resampled)\n",
        "start_time = start = time.time()\n",
        "y_pred_rfc = rfc_featured.predict(X_test)\n",
        "end_time = time.time()\n",
        "results = calc_metrics(model_name = \"RandomForest_featured\",y_true =Y_test, y_pred=y_pred_rfc, start_time=start_time, end_time=end_time,average=\"macro\")\n",
        "report =classification_report(Y_test, y_pred_rfc,digits=5)"
      ]
    },
    {
      "cell_type": "code",
      "execution_count": 16,
      "metadata": {
        "colab": {
          "base_uri": "https://localhost:8080/"
        },
        "id": "JDy_68BXaaot",
        "outputId": "3f9762b0-748e-46de-b7fb-075ba4c7858e"
      },
      "outputs": [
        {
          "output_type": "stream",
          "name": "stdout",
          "text": [
            "              precision    recall  f1-score   support\n",
            "\n",
            "           0    0.99507   0.97098   0.98288    329289\n",
            "           1    0.38708   0.79210   0.52003      7619\n",
            "\n",
            "    accuracy                        0.96693    336908\n",
            "   macro avg    0.69108   0.88154   0.75146    336908\n",
            "weighted avg    0.98132   0.96693   0.97241    336908\n",
            "\n"
          ]
        }
      ],
      "source": [
        "print(report)"
      ]
    },
    {
      "cell_type": "code",
      "execution_count": 17,
      "metadata": {
        "colab": {
          "base_uri": "https://localhost:8080/"
        },
        "id": "3RocPJpWZn_3",
        "outputId": "f251da0e-457b-42e3-d2e0-755a74e9c2ab"
      },
      "outputs": [
        {
          "output_type": "execute_result",
          "data": {
            "text/plain": [
              "{'model_name': 'RandomForest_featured',\n",
              " 'start_time': 1719105368.902176,\n",
              " 'end_time': 1719105374.4353006,\n",
              " 'accuracy': 0.9669345934201622,\n",
              " 'recall': 0.8815392998664264,\n",
              " 'precision': 0.6910762899539205,\n",
              " 'f1-score': 0.7514559848999983}"
            ]
          },
          "metadata": {},
          "execution_count": 17
        }
      ],
      "source": [
        "results"
      ]
    }
  ],
  "metadata": {
    "accelerator": "GPU",
    "colab": {
      "gpuType": "T4",
      "machine_shape": "hm",
      "provenance": [],
      "include_colab_link": true
    },
    "kernelspec": {
      "display_name": "Python 3",
      "name": "python3"
    },
    "language_info": {
      "name": "python"
    }
  },
  "nbformat": 4,
  "nbformat_minor": 0
}